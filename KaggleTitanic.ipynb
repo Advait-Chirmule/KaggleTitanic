{
  "nbformat": 4,
  "nbformat_minor": 0,
  "metadata": {
    "colab": {
      "name": "KaggleTitanic.ipynb",
      "provenance": []
    },
    "kernelspec": {
      "name": "python3",
      "display_name": "Python 3"
    },
    "language_info": {
      "name": "python"
    }
  },
  "cells": [
    {
      "cell_type": "code",
      "metadata": {
        "id": "P5rajQ-OjYPe"
      },
      "source": [
        "import numpy as np\n",
        "from numpy.core.numeric import cross\n",
        "import pandas as pd\n",
        "from datetime import datetime\n",
        "from sklearn.metrics import accuracy_score"
      ],
      "execution_count": 1,
      "outputs": []
    },
    {
      "cell_type": "code",
      "metadata": {
        "colab": {
          "base_uri": "https://localhost:8080/"
        },
        "id": "PfZErKwZjdTf",
        "outputId": "0ffb16d9-aa34-4c31-f172-59ebb9f1607e"
      },
      "source": [
        "#We firstly display the data\n",
        "pd.options.display.max_columns = None\n",
        "data = pd.read_csv('https://advait-chirmule.github.io/KaggleTitanic/train.csv')\n",
        "print(data.head(15))"
      ],
      "execution_count": 2,
      "outputs": [
        {
          "output_type": "stream",
          "name": "stdout",
          "text": [
            "    PassengerId  Survived  Pclass  \\\n",
            "0             1         0       3   \n",
            "1             2         1       1   \n",
            "2             3         1       3   \n",
            "3             4         1       1   \n",
            "4             5         0       3   \n",
            "5             6         0       3   \n",
            "6             7         0       1   \n",
            "7             8         0       3   \n",
            "8             9         1       3   \n",
            "9            10         1       2   \n",
            "10           11         1       3   \n",
            "11           12         1       1   \n",
            "12           13         0       3   \n",
            "13           14         0       3   \n",
            "14           15         0       3   \n",
            "\n",
            "                                                 Name     Sex   Age  SibSp  \\\n",
            "0                             Braund, Mr. Owen Harris    male  22.0      1   \n",
            "1   Cumings, Mrs. John Bradley (Florence Briggs Th...  female  38.0      1   \n",
            "2                              Heikkinen, Miss. Laina  female  26.0      0   \n",
            "3        Futrelle, Mrs. Jacques Heath (Lily May Peel)  female  35.0      1   \n",
            "4                            Allen, Mr. William Henry    male  35.0      0   \n",
            "5                                    Moran, Mr. James    male   NaN      0   \n",
            "6                             McCarthy, Mr. Timothy J    male  54.0      0   \n",
            "7                      Palsson, Master. Gosta Leonard    male   2.0      3   \n",
            "8   Johnson, Mrs. Oscar W (Elisabeth Vilhelmina Berg)  female  27.0      0   \n",
            "9                 Nasser, Mrs. Nicholas (Adele Achem)  female  14.0      1   \n",
            "10                    Sandstrom, Miss. Marguerite Rut  female   4.0      1   \n",
            "11                           Bonnell, Miss. Elizabeth  female  58.0      0   \n",
            "12                     Saundercock, Mr. William Henry    male  20.0      0   \n",
            "13                        Andersson, Mr. Anders Johan    male  39.0      1   \n",
            "14               Vestrom, Miss. Hulda Amanda Adolfina  female  14.0      0   \n",
            "\n",
            "    Parch            Ticket     Fare Cabin Embarked  \n",
            "0       0         A/5 21171   7.2500   NaN        S  \n",
            "1       0          PC 17599  71.2833   C85        C  \n",
            "2       0  STON/O2. 3101282   7.9250   NaN        S  \n",
            "3       0            113803  53.1000  C123        S  \n",
            "4       0            373450   8.0500   NaN        S  \n",
            "5       0            330877   8.4583   NaN        Q  \n",
            "6       0             17463  51.8625   E46        S  \n",
            "7       1            349909  21.0750   NaN        S  \n",
            "8       2            347742  11.1333   NaN        S  \n",
            "9       0            237736  30.0708   NaN        C  \n",
            "10      1           PP 9549  16.7000    G6        S  \n",
            "11      0            113783  26.5500  C103        S  \n",
            "12      0         A/5. 2151   8.0500   NaN        S  \n",
            "13      5            347082  31.2750   NaN        S  \n",
            "14      0            350406   7.8542   NaN        S  \n"
          ]
        }
      ]
    },
    {
      "cell_type": "code",
      "metadata": {
        "id": "Ur3wcoq0jfyD",
        "colab": {
          "base_uri": "https://localhost:8080/"
        },
        "outputId": "be90db0e-daf2-4963-dbc3-163f5db4f253"
      },
      "source": [
        "#We can rule out the name as that we know that wouldn't help one to survive\n",
        "data = data.drop(columns=\"Name\")\n",
        "#We also drop Ticket as there is very little relevant info in it\n",
        "data = data.drop(columns=\"Ticket\")\n",
        "print(data.head(5))\n",
        "\n",
        "#We check how many unique values every column has and how many missing values it has\n",
        "print(data.nunique())\n",
        "data.isnull().sum()"
      ],
      "execution_count": 3,
      "outputs": [
        {
          "output_type": "stream",
          "name": "stdout",
          "text": [
            "   PassengerId  Survived  Pclass     Sex   Age  SibSp  Parch     Fare Cabin  \\\n",
            "0            1         0       3    male  22.0      1      0   7.2500   NaN   \n",
            "1            2         1       1  female  38.0      1      0  71.2833   C85   \n",
            "2            3         1       3  female  26.0      0      0   7.9250   NaN   \n",
            "3            4         1       1  female  35.0      1      0  53.1000  C123   \n",
            "4            5         0       3    male  35.0      0      0   8.0500   NaN   \n",
            "\n",
            "  Embarked  \n",
            "0        S  \n",
            "1        C  \n",
            "2        S  \n",
            "3        S  \n",
            "4        S  \n",
            "PassengerId    891\n",
            "Survived         2\n",
            "Pclass           3\n",
            "Sex              2\n",
            "Age             88\n",
            "SibSp            7\n",
            "Parch            7\n",
            "Fare           248\n",
            "Cabin          147\n",
            "Embarked         3\n",
            "dtype: int64\n"
          ]
        },
        {
          "output_type": "execute_result",
          "data": {
            "text/plain": [
              "PassengerId      0\n",
              "Survived         0\n",
              "Pclass           0\n",
              "Sex              0\n",
              "Age            177\n",
              "SibSp            0\n",
              "Parch            0\n",
              "Fare             0\n",
              "Cabin          687\n",
              "Embarked         2\n",
              "dtype: int64"
            ]
          },
          "metadata": {},
          "execution_count": 3
        }
      ]
    },
    {
      "cell_type": "code",
      "metadata": {
        "id": "cFwBbCdijhas",
        "colab": {
          "base_uri": "https://localhost:8080/"
        },
        "outputId": "95726f85-0257-4df0-de13-519861071616"
      },
      "source": [
        "#We do label encoding on the gender column\n",
        "data['Sex'] = data['Sex'].replace(\"male\", \"0\")\n",
        "data['Sex'] = data['Sex'].replace(\"female\", \"1\")\n",
        "print(data.head(5))"
      ],
      "execution_count": 4,
      "outputs": [
        {
          "output_type": "stream",
          "name": "stdout",
          "text": [
            "   PassengerId  Survived  Pclass Sex   Age  SibSp  Parch     Fare Cabin  \\\n",
            "0            1         0       3   0  22.0      1      0   7.2500   NaN   \n",
            "1            2         1       1   1  38.0      1      0  71.2833   C85   \n",
            "2            3         1       3   1  26.0      0      0   7.9250   NaN   \n",
            "3            4         1       1   1  35.0      1      0  53.1000  C123   \n",
            "4            5         0       3   0  35.0      0      0   8.0500   NaN   \n",
            "\n",
            "  Embarked  \n",
            "0        S  \n",
            "1        C  \n",
            "2        S  \n",
            "3        S  \n",
            "4        S  \n"
          ]
        }
      ]
    },
    {
      "cell_type": "code",
      "metadata": {
        "colab": {
          "base_uri": "https://localhost:8080/"
        },
        "id": "5S9rMPi53Njv",
        "outputId": "3722c3b2-dba9-45bb-b437-c7a7f28cbb0c"
      },
      "source": [
        "#For cabin, we extract the letters and give them numbers based on their alphabet, 0 if NaN, we see G so let's convert till G for now\n",
        "#For missing values here, we can just say only privileged people had cabins and rest didn't and we give 0 for those who didn't \n",
        "data['Cabin'] = data['Cabin'].fillna(\"0\")\n",
        "data1 =  data[data['Cabin'].str.contains('[A-Za-z]')]\n",
        "print(data1)\n",
        "data['Cabin'] = data['Cabin'].apply(lambda x: '1' if 'A' in x else x)\n",
        "data['Cabin'] = data['Cabin'].apply(lambda x: '2' if 'B' in x else x)\n",
        "data['Cabin'] = data['Cabin'].apply(lambda x: '3' if 'C' in x else x)\n",
        "data['Cabin'] = data['Cabin'].apply(lambda x: '4' if 'D' in x else x)\n",
        "data['Cabin'] = data['Cabin'].apply(lambda x: '5' if 'E' in x else x)\n",
        "data['Cabin'] = data['Cabin'].apply(lambda x: '6' if 'F' in x else x)\n",
        "data['Cabin'] = data['Cabin'].apply(lambda x: '7' if 'G' in x else x)\n",
        "print(data.head(15))\n",
        "data['Cabin'].describe()"
      ],
      "execution_count": 5,
      "outputs": [
        {
          "output_type": "stream",
          "name": "stdout",
          "text": [
            "     PassengerId  Survived  Pclass Sex   Age  SibSp  Parch     Fare  \\\n",
            "1              2         1       1   1  38.0      1      0  71.2833   \n",
            "3              4         1       1   1  35.0      1      0  53.1000   \n",
            "6              7         0       1   0  54.0      0      0  51.8625   \n",
            "10            11         1       3   1   4.0      1      1  16.7000   \n",
            "11            12         1       1   1  58.0      0      0  26.5500   \n",
            "..           ...       ...     ...  ..   ...    ...    ...      ...   \n",
            "871          872         1       1   1  47.0      1      1  52.5542   \n",
            "872          873         0       1   0  33.0      0      0   5.0000   \n",
            "879          880         1       1   1  56.0      0      1  83.1583   \n",
            "887          888         1       1   1  19.0      0      0  30.0000   \n",
            "889          890         1       1   0  26.0      0      0  30.0000   \n",
            "\n",
            "           Cabin Embarked  \n",
            "1            C85        C  \n",
            "3           C123        S  \n",
            "6            E46        S  \n",
            "10            G6        S  \n",
            "11          C103        S  \n",
            "..           ...      ...  \n",
            "871          D35        S  \n",
            "872  B51 B53 B55        S  \n",
            "879          C50        C  \n",
            "887          B42        S  \n",
            "889         C148        C  \n",
            "\n",
            "[204 rows x 10 columns]\n",
            "    PassengerId  Survived  Pclass Sex   Age  SibSp  Parch     Fare Cabin  \\\n",
            "0             1         0       3   0  22.0      1      0   7.2500     0   \n",
            "1             2         1       1   1  38.0      1      0  71.2833     3   \n",
            "2             3         1       3   1  26.0      0      0   7.9250     0   \n",
            "3             4         1       1   1  35.0      1      0  53.1000     3   \n",
            "4             5         0       3   0  35.0      0      0   8.0500     0   \n",
            "5             6         0       3   0   NaN      0      0   8.4583     0   \n",
            "6             7         0       1   0  54.0      0      0  51.8625     5   \n",
            "7             8         0       3   0   2.0      3      1  21.0750     0   \n",
            "8             9         1       3   1  27.0      0      2  11.1333     0   \n",
            "9            10         1       2   1  14.0      1      0  30.0708     0   \n",
            "10           11         1       3   1   4.0      1      1  16.7000     7   \n",
            "11           12         1       1   1  58.0      0      0  26.5500     3   \n",
            "12           13         0       3   0  20.0      0      0   8.0500     0   \n",
            "13           14         0       3   0  39.0      1      5  31.2750     0   \n",
            "14           15         0       3   1  14.0      0      0   7.8542     0   \n",
            "\n",
            "   Embarked  \n",
            "0         S  \n",
            "1         C  \n",
            "2         S  \n",
            "3         S  \n",
            "4         S  \n",
            "5         Q  \n",
            "6         S  \n",
            "7         S  \n",
            "8         S  \n",
            "9         C  \n",
            "10        S  \n",
            "11        S  \n",
            "12        S  \n",
            "13        S  \n",
            "14        S  \n"
          ]
        },
        {
          "output_type": "execute_result",
          "data": {
            "text/plain": [
              "count     891\n",
              "unique      9\n",
              "top         0\n",
              "freq      687\n",
              "Name: Cabin, dtype: object"
            ]
          },
          "metadata": {},
          "execution_count": 5
        }
      ]
    },
    {
      "cell_type": "code",
      "metadata": {
        "colab": {
          "base_uri": "https://localhost:8080/"
        },
        "id": "wElNQXL89nc-",
        "outputId": "5da6cec3-6f14-4c94-da99-b0bcf94377cb"
      },
      "source": [
        "#As there are 9 unique values and we already have converted, let's try to check if any letter if left\n",
        "data1 =  data[data['Cabin'].str.contains('[A-Za-z]')]\n",
        "print(data1)"
      ],
      "execution_count": 6,
      "outputs": [
        {
          "output_type": "stream",
          "name": "stdout",
          "text": [
            "     PassengerId  Survived  Pclass Sex   Age  SibSp  Parch  Fare Cabin  \\\n",
            "339          340         0       1   0  45.0      0      0  35.5     T   \n",
            "\n",
            "    Embarked  \n",
            "339        S  \n"
          ]
        }
      ]
    },
    {
      "cell_type": "code",
      "metadata": {
        "id": "951cEGAl-Sw3"
      },
      "source": [
        "#We find we have a cabin with T in it, so we replace it by 10 (if we replace by real value of T, it might be too far from rest of the data)\n",
        "data['Cabin'] = data['Cabin'].apply(lambda x: '10' if 'T' in x else x)\n",
        "data['Cabin'] = pd.to_numeric(data['Cabin'])"
      ],
      "execution_count": 7,
      "outputs": []
    },
    {
      "cell_type": "code",
      "metadata": {
        "colab": {
          "base_uri": "https://localhost:8080/",
          "height": 282
        },
        "id": "atwsCQGslefn",
        "outputId": "e5cbd113-a1cd-4b78-aebb-a22e94a560cc"
      },
      "source": [
        "from matplotlib import pyplot as plt\n",
        "import math\n",
        "\n",
        "#We check if the passenger ID has any relevance to survival by plotting it\n",
        "division = []\n",
        "r = math.floor(len(data['Survived'])/5)\n",
        "for i in range(5):\n",
        "  count = 0\n",
        "  a = i*r\n",
        "  b = a + r\n",
        "  for i in range(a, b):\n",
        "    if(data.loc[i, 'Survived'] == 1):\n",
        "      count = count + 1\n",
        "  \n",
        "  division.append(count)\n",
        "\n",
        "\n",
        "plt.bar([1, 2, 3, 4, 5], division)"
      ],
      "execution_count": 8,
      "outputs": [
        {
          "output_type": "execute_result",
          "data": {
            "text/plain": [
              "<BarContainer object of 5 artists>"
            ]
          },
          "metadata": {},
          "execution_count": 8
        },
        {
          "output_type": "display_data",
          "data": {
            "image/png": "[encoded data removed]",
            "text/plain": [
              "<Figure size 432x288 with 1 Axes>"
            ]
          },
          "metadata": {
            "needs_background": "light"
          }
        }
      ]
    },
    {
      "cell_type": "code",
      "metadata": {
        "colab": {
          "base_uri": "https://localhost:8080/"
        },
        "id": "JtPMVlYySmSH",
        "outputId": "ab94e022-22a8-4f4f-f00d-76f7c1cdfc41"
      },
      "source": [
        "#As it is clear there is no relation between Passenger ID and Survival (as no trend), we can drop it\n",
        "data = data.drop(columns=\"PassengerId\")\n",
        "\n",
        "#Next, as Siblings/Spouse and Parent/Children both talk about no. of family members, we can combine both columns\n",
        "data['SibSp'] = data['SibSp'] + data['Parch']\n",
        "data = data.drop(columns='Parch')\n",
        "print(data.head(10))"
      ],
      "execution_count": 9,
      "outputs": [
        {
          "output_type": "stream",
          "name": "stdout",
          "text": [
            "   Survived  Pclass Sex   Age  SibSp     Fare  Cabin Embarked\n",
            "0         0       3   0  22.0      1   7.2500      0        S\n",
            "1         1       1   1  38.0      1  71.2833      3        C\n",
            "2         1       3   1  26.0      0   7.9250      0        S\n",
            "3         1       1   1  35.0      1  53.1000      3        S\n",
            "4         0       3   0  35.0      0   8.0500      0        S\n",
            "5         0       3   0   NaN      0   8.4583      0        Q\n",
            "6         0       1   0  54.0      0  51.8625      5        S\n",
            "7         0       3   0   2.0      4  21.0750      0        S\n",
            "8         1       3   1  27.0      2  11.1333      0        S\n",
            "9         1       2   1  14.0      1  30.0708      0        C\n"
          ]
        }
      ]
    },
    {
      "cell_type": "code",
      "metadata": {
        "colab": {
          "base_uri": "https://localhost:8080/"
        },
        "id": "UJlgoj4VRaz9",
        "outputId": "fb3f4364-8760-4295-c4cb-2f091503de11"
      },
      "source": [
        "#For missing age, we can fill in the average age of the rest of the set\n",
        "data['Age'].fillna(data['Age'].mean(), inplace=True)\n",
        "print(data.head(10))"
      ],
      "execution_count": 10,
      "outputs": [
        {
          "output_type": "stream",
          "name": "stdout",
          "text": [
            "   Survived  Pclass Sex        Age  SibSp     Fare  Cabin Embarked\n",
            "0         0       3   0  22.000000      1   7.2500      0        S\n",
            "1         1       1   1  38.000000      1  71.2833      3        C\n",
            "2         1       3   1  26.000000      0   7.9250      0        S\n",
            "3         1       1   1  35.000000      1  53.1000      3        S\n",
            "4         0       3   0  35.000000      0   8.0500      0        S\n",
            "5         0       3   0  29.699118      0   8.4583      0        Q\n",
            "6         0       1   0  54.000000      0  51.8625      5        S\n",
            "7         0       3   0   2.000000      4  21.0750      0        S\n",
            "8         1       3   1  27.000000      2  11.1333      0        S\n",
            "9         1       2   1  14.000000      1  30.0708      0        C\n"
          ]
        }
      ]
    },
    {
      "cell_type": "code",
      "metadata": {
        "colab": {
          "base_uri": "https://localhost:8080/",
          "height": 263
        },
        "id": "GTh3FH8UCoZ2",
        "outputId": "51dd0851-5023-4243-c235-6079bec4a073"
      },
      "source": [
        "from sklearn.preprocessing import OneHotEncoder\n",
        "from sklearn.compose import ColumnTransformer\n",
        "\n",
        "#We only have two missing values in this column, so we check distribution of cities first\n",
        "data['Embarked'].value_counts().plot.bar()\n",
        "\n",
        "#As most of the passengers are from \"S\", we give them those values (done as only two entries like these)\n",
        "data['Embarked'].fillna(data['Embarked'].mode()[0], inplace=True)"
      ],
      "execution_count": 11,
      "outputs": [
        {
          "output_type": "display_data",
          "data": {
            "image/png": "[encoded data removed]",
            "text/plain": [
              "<Figure size 432x288 with 1 Axes>"
            ]
          },
          "metadata": {
            "needs_background": "light"
          }
        }
      ]
    },
    {
      "cell_type": "code",
      "metadata": {
        "colab": {
          "base_uri": "https://localhost:8080/"
        },
        "id": "vCIEdZlRNzNq",
        "outputId": "c0d156a8-a103-44f0-d194-c93b26da2ad7"
      },
      "source": [
        "#Do One Hot Encoding on the Cities\n",
        "Embarked = ColumnTransformer([('Embarked', OneHotEncoder(), [7])], remainder='passthrough')\n",
        "data = Embarked.fit_transform(data)\n",
        "data = pd.DataFrame(data)\n",
        "print(data.head(15))"
      ],
      "execution_count": 12,
      "outputs": [
        {
          "output_type": "stream",
          "name": "stdout",
          "text": [
            "    0  1  2  3  4  5        6  7        8  9\n",
            "0   0  0  1  0  3  0       22  1     7.25  0\n",
            "1   1  0  0  1  1  1       38  1  71.2833  3\n",
            "2   0  0  1  1  3  1       26  0    7.925  0\n",
            "3   0  0  1  1  1  1       35  1     53.1  3\n",
            "4   0  0  1  0  3  0       35  0     8.05  0\n",
            "5   0  1  0  0  3  0  29.6991  0   8.4583  0\n",
            "6   0  0  1  0  1  0       54  0  51.8625  5\n",
            "7   0  0  1  0  3  0        2  4   21.075  0\n",
            "8   0  0  1  1  3  1       27  2  11.1333  0\n",
            "9   1  0  0  1  2  1       14  1  30.0708  0\n",
            "10  0  0  1  1  3  1        4  2     16.7  7\n",
            "11  0  0  1  1  1  1       58  0    26.55  3\n",
            "12  0  0  1  0  3  0       20  0     8.05  0\n",
            "13  0  0  1  0  3  0       39  6   31.275  0\n",
            "14  0  0  1  0  3  1       14  0   7.8542  0\n"
          ]
        }
      ]
    },
    {
      "cell_type": "code",
      "metadata": {
        "colab": {
          "base_uri": "https://localhost:8080/"
        },
        "id": "c6XURqgoTexc",
        "outputId": "ade4065a-79a9-48ce-b4f4-dae2b17d3276"
      },
      "source": [
        "#As this is a classfication problem, we can try different algorithms \n",
        "#(A) Firstly, let's try SVM\n",
        "from sklearn.model_selection import train_test_split\n",
        "\n",
        "def SVM(data):\n",
        "    from sklearn.svm import SVC\n",
        "\n",
        "    x = data.drop(columns=3)\n",
        "    y = data.loc[:, 3]\n",
        "    y = y.astype('int')\n",
        "    x_train, x_test, y_train, y_test = train_test_split(x, y, test_size = 0.2, random_state=1)\n",
        "\n",
        "    model = SVC()\n",
        "    model.fit(x_train, y_train)\n",
        "    y_pred = model.predict(x_test)\n",
        "    print(\"The accuracy of this SVM model is: \", accuracy_score(y_test, y_pred))\n",
        "\n",
        "data1 = data.copy()\n",
        "SVM(data1)"
      ],
      "execution_count": 13,
      "outputs": [
        {
          "output_type": "stream",
          "name": "stdout",
          "text": [
            "The accuracy of this SVM model is:  0.6424581005586593\n"
          ]
        }
      ]
    },
    {
      "cell_type": "code",
      "metadata": {
        "colab": {
          "base_uri": "https://localhost:8080/",
          "height": 282
        },
        "id": "KCWccH7DpBO-",
        "outputId": "95cbd86c-a642-40fe-82c4-56b83198150b"
      },
      "source": [
        "#(B) Next, let's try KNN\n",
        "from matplotlib import pyplot as plt \n",
        "\n",
        "def KNN(data):\n",
        "    error_rate = []\n",
        "    index = []\n",
        "    for i in range (1,40):\n",
        "        index.append(i)\n",
        "        x = data.drop(columns=3)\n",
        "        y = data.loc[:, 3]\n",
        "        y = y.astype('int')\n",
        "        x_train, x_test, y_train, y_test = train_test_split(x, y, test_size = 0.2, random_state=1)\n",
        "\n",
        "        from sklearn.neighbors import KNeighborsClassifier\n",
        "        knn = KNeighborsClassifier(n_neighbors=i)\n",
        "        knn.fit(x_train, y_train)\n",
        "        y_pred = knn.predict(x_test)\n",
        "        error_rate.append(accuracy_score(y_test, y_pred))\n",
        "    \n",
        "    plt.plot(index, error_rate)\n",
        "    print(\"The accuracy of this KNN model is: \", max(error_rate))\n",
        "\n",
        "data2 = data.copy()\n",
        "KNN(data2)"
      ],
      "execution_count": 14,
      "outputs": [
        {
          "output_type": "stream",
          "name": "stdout",
          "text": [
            "The accuracy of this KNN model is:  0.7206703910614525\n"
          ]
        },
        {
          "output_type": "display_data",
          "data": {
            "image/png": "[encoded data removed]",
            "text/plain": [
              "<Figure size 432x288 with 1 Axes>"
            ]
          },
          "metadata": {
            "needs_background": "light"
          }
        }
      ]
    },
    {
      "cell_type": "code",
      "metadata": {
        "colab": {
          "base_uri": "https://localhost:8080/"
        },
        "id": "zMZ88uJgqm_D",
        "outputId": "9de9fe2c-ae54-468d-8e2f-2c17455aab7a"
      },
      "source": [
        "#(C) Using Naive Bayes\n",
        "def NB(data):\n",
        "  from sklearn.naive_bayes import MultinomialNB\n",
        "  x = data.drop(columns=3)\n",
        "  y = data.loc[:, 3]\n",
        "  y = y.astype('int')\n",
        "  x_train, x_test, y_train, y_test = train_test_split(x, y, test_size = 0.2, random_state=1)\n",
        "  \n",
        "  mnb = MultinomialNB()\n",
        "  mnb.fit(x_train, y_train)\n",
        "  y_pred = mnb.predict(x_test)\n",
        "  print(\"The accuracy of this Naive Bayes model is: \", accuracy_score(y_pred, y_test))\n",
        "\n",
        "data3 = data.copy()\n",
        "NB(data3)"
      ],
      "execution_count": 15,
      "outputs": [
        {
          "output_type": "stream",
          "name": "stdout",
          "text": [
            "The accuracy of this Naive Bayes model is:  0.6424581005586593\n"
          ]
        }
      ]
    },
    {
      "cell_type": "code",
      "metadata": {
        "colab": {
          "base_uri": "https://localhost:8080/"
        },
        "id": "EW3RZKn-tFti",
        "outputId": "f5d3d815-fe5b-49cf-dffc-d56dba9a527a"
      },
      "source": [
        "print(\"Comparing the three algorithms, we see that KNN works the best and thus, we use our KNN model for our final testing set\")\n",
        "#Now we use the test dataset and predict values\n",
        "data = pd.read_csv('https://advait-chirmule.github.io/KaggleTitanic/test.csv')\n",
        "datasave = data.copy()\n",
        "data = data.drop(columns=\"Name\")\n",
        "data = data.drop(columns=\"Ticket\")\n",
        "data['Sex'] = data['Sex'].replace(\"male\", \"0\")\n",
        "data['Sex'] = data['Sex'].replace(\"female\", \"1\")\n",
        "data['Cabin'] = data['Cabin'].fillna(\"0\")\n",
        "data['Cabin'] = data['Cabin'].apply(lambda x: '1' if 'A' in x else x)\n",
        "data['Cabin'] = data['Cabin'].apply(lambda x: '2' if 'B' in x else x)\n",
        "data['Cabin'] = data['Cabin'].apply(lambda x: '3' if 'C' in x else x)\n",
        "data['Cabin'] = data['Cabin'].apply(lambda x: '4' if 'D' in x else x)\n",
        "data['Cabin'] = data['Cabin'].apply(lambda x: '5' if 'E' in x else x)\n",
        "data['Cabin'] = data['Cabin'].apply(lambda x: '6' if 'F' in x else x)\n",
        "data['Cabin'] = data['Cabin'].apply(lambda x: '7' if 'G' in x else x)\n",
        "data['Cabin'] = data['Cabin'].apply(lambda x: '10' if 'T' in x else x)\n",
        "data['Cabin'] = pd.to_numeric(data['Cabin'])\n",
        "data = data.drop(columns=\"PassengerId\")\n",
        "data['SibSp'] = data['SibSp'] + data['Parch']\n",
        "data = data.drop(columns='Parch')\n",
        "data['Age'].fillna(data['Age'].mean(), inplace=True)\n",
        "data['Fare'].fillna(data['Fare'].mean(), inplace=True)\n",
        "data['Embarked'].fillna(data['Embarked'].mode()[0], inplace=True)\n",
        "Embarked = ColumnTransformer([('Embarked', OneHotEncoder(), [6])], remainder='passthrough')\n",
        "data = Embarked.fit_transform(data)\n",
        "data = pd.DataFrame(data)\n",
        "\n",
        "def KNN(data2, i, data):\n",
        "    x = data2.drop(columns=3)\n",
        "    y = data2.loc[:, 3]\n",
        "    y = y.astype('int')\n",
        "    x_train, x_test, y_train, y_test = train_test_split(x, y, test_size = 0.2, random_state=1)\n",
        "\n",
        "    from sklearn.neighbors import KNeighborsClassifier\n",
        "    \n",
        "    knn = KNeighborsClassifier(n_neighbors=i)\n",
        "    knn.fit(x_train, y_train)\n",
        "    y_pred = knn.predict(x_test)\n",
        "    print(accuracy_score(y_test, y_pred))\n",
        "\n",
        "    y_final = knn.predict(data)\n",
        "    return y_final\n",
        "\n",
        "result = KNN(data2, 7, data)\n",
        "output = pd.DataFrame({'PassengerId': datasave['PassengerId'], 'Survived': result})\n",
        "output.to_csv('submission.csv', index=False)"
      ],
      "execution_count": 16,
      "outputs": [
        {
          "output_type": "stream",
          "name": "stdout",
          "text": [
            "Comparing the three algorithms, we see that KNN works the best and thus, we use our KNN model for our final testing set\n",
            "0.7206703910614525\n"
          ]
        }
      ]
    }
  ]
}